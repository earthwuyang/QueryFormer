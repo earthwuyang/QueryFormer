{
 "cells": [
  {
   "cell_type": "code",
   "execution_count": 1,
   "id": "37917929",
   "metadata": {},
   "outputs": [],
   "source": [
    "# # Enable autoreload\n",
    "# %load_ext autoreload\n",
    "# %autoreload 2"
   ]
  },
  {
   "cell_type": "code",
   "execution_count": 2,
   "id": "d9c5213b",
   "metadata": {},
   "outputs": [],
   "source": [
    "import numpy as np\n",
    "import os\n",
    "import torch\n",
    "import torch.nn as nn\n",
    "import time\n",
    "import pandas as pd\n",
    "from scipy.stats import pearsonr"
   ]
  },
  {
   "cell_type": "code",
   "execution_count": 3,
   "id": "037bec4a",
   "metadata": {},
   "outputs": [],
   "source": [
    "from model.util import Normalizer\n",
    "from model.database_util import get_hist_file, get_job_table_sample, collator\n",
    "from model.model import QueryFormer\n",
    "from model.database_util import Encoding\n",
    "from model.dataset import PlanTreeDataset\n",
    "from model.trainer import eval_workload, train"
   ]
  },
  {
   "cell_type": "code",
   "execution_count": 4,
   "id": "822fdcaf",
   "metadata": {},
   "outputs": [],
   "source": [
    "data_path = './data/imdb/'"
   ]
  },
  {
   "cell_type": "code",
   "execution_count": 18,
   "id": "fbcd4773",
   "metadata": {},
   "outputs": [],
   "source": [
    "class Args:\n",
    "    # bs = 1024\n",
    "    # SQ: smaller batch size\n",
    "    bs = 128\n",
    "    lr = 0.001\n",
    "    # epochs = 200\n",
    "    epochs = 100\n",
    "    clip_size = 50\n",
    "    embed_size = 64\n",
    "    pred_hid = 128\n",
    "    ffn_dim = 128\n",
    "    head_size = 12\n",
    "    n_layers = 8\n",
    "    dropout = 0.1\n",
    "    sch_decay = 0.6\n",
    "    device = 'cuda:0'\n",
    "    newpath = './results/full/cost/'\n",
    "    to_predict = 'cost'\n",
    "args = Args()\n",
    "\n",
    "import os\n",
    "if not os.path.exists(args.newpath):\n",
    "    os.makedirs(args.newpath)"
   ]
  },
  {
   "cell_type": "code",
   "execution_count": 6,
   "id": "b6f3f665",
   "metadata": {},
   "outputs": [],
   "source": [
    "# >>> df=pd.read_csv('histogram_string.csv')\n",
    "# >>> df\n",
    "#              table           column                                               freq                                               bins         table_column\n",
    "# 0            title  production_year  0000000000000000000000000000000000000000000000...  [1880 1913 1923 1942 1955 1960 1964 1968 1971 ...    t.production_year\n",
    "# 1            title          kind_id  0000000000000000a7d0a5b13fc7d03f6249099dec65a2...  [1 1 1 1 1 1 1 1 1 1 1 1 1 1 2 3 3 4 4 4 7 7 7...            t.kind_id\n",
    "# 2  movie_companies       company_id  000000000000000088995af55640403f993ed7b99d4f42...  [     1      6     19     27     68    133    ...        mc.company_id\n",
    "# 3  movie_companies  company_type_id   0000000000000000d97131b09c41df3f1347e7a7315fe03f  [1 1 1 1 1 1 1 1 1 1 1 1 1 1 1 1 1 1 1 1 1 1 1...   mc.company_type_id\n",
    "# 4        cast_info          role_id  000000000000000060dbffdfb15fd63f07c2be4c3951ca...  [ 1  1  1  1  1  1  1  1  1  1  1  1  1  1  1 ...           ci.role_id\n",
    "# 5    movie_keyword       keyword_id  000000000000000079ee79d33c026a3f6235e2d63fb0c0...  [     1     77    132    230    331    347    ...        mk.keyword_id\n",
    "# 6        cast_info        person_id  00000000000000000000000000000000972af4b705a06d...  [      2   77446  145798  212750  281691  3472...         ci.person_id\n",
    "# 7   movie_info_idx     info_type_id  0000000000000000000000000000000000000000000000...  [ 99  99  99  99  99  99  99  99  99  99  99  ...  mi_idx.info_type_id\n",
    "# 8       movie_info     info_type_id  000000000000000056a15855d2aeab3f075df65ac53db6...  [  1   1   1   2   2   2   2   2   3   3   3  ...      mi.info_type_id"
   ]
  },
  {
   "cell_type": "code",
   "execution_count": 7,
   "id": "aace65f6",
   "metadata": {},
   "outputs": [
    {
     "name": "stderr",
     "output_type": "stream",
     "text": [
      "/home/wuy/DB/performance_estimation/QueryFormer/model/database_util.py:92: FutureWarning: ChainedAssignmentError: behaviour will change in pandas 3.0!\n",
      "You are setting values through chained assignment. Currently this works in certain cases, but when using Copy-on-Write (which will become the default behaviour in pandas 3.0) this will never work to update the original DataFrame or Series, because the intermediate object on which we are setting values will behave as a copy.\n",
      "A typical example is when you are setting values in a column of a DataFrame, like:\n",
      "\n",
      "df[\"col\"][row_indexer] = value\n",
      "\n",
      "Use `df.loc[row_indexer, \"col\"] = values` instead, to perform the assignment in a single step and ensure this keeps updating the original `df`.\n",
      "\n",
      "See the caveats in the documentation: https://pandas.pydata.org/pandas-docs/stable/user_guide/indexing.html#returning-a-view-versus-a-copy\n",
      "\n",
      "  hist_file['bins'][rid] = \\\n",
      "/home/wuy/DB/performance_estimation/QueryFormer/model/database_util.py:92: FutureWarning: ChainedAssignmentError: behaviour will change in pandas 3.0!\n",
      "You are setting values through chained assignment. Currently this works in certain cases, but when using Copy-on-Write (which will become the default behaviour in pandas 3.0) this will never work to update the original DataFrame or Series, because the intermediate object on which we are setting values will behave as a copy.\n",
      "A typical example is when you are setting values in a column of a DataFrame, like:\n",
      "\n",
      "df[\"col\"][row_indexer] = value\n",
      "\n",
      "Use `df.loc[row_indexer, \"col\"] = values` instead, to perform the assignment in a single step and ensure this keeps updating the original `df`.\n",
      "\n",
      "See the caveats in the documentation: https://pandas.pydata.org/pandas-docs/stable/user_guide/indexing.html#returning-a-view-versus-a-copy\n",
      "\n",
      "  hist_file['bins'][rid] = \\\n",
      "/home/wuy/DB/performance_estimation/QueryFormer/model/database_util.py:92: FutureWarning: ChainedAssignmentError: behaviour will change in pandas 3.0!\n",
      "You are setting values through chained assignment. Currently this works in certain cases, but when using Copy-on-Write (which will become the default behaviour in pandas 3.0) this will never work to update the original DataFrame or Series, because the intermediate object on which we are setting values will behave as a copy.\n",
      "A typical example is when you are setting values in a column of a DataFrame, like:\n",
      "\n",
      "df[\"col\"][row_indexer] = value\n",
      "\n",
      "Use `df.loc[row_indexer, \"col\"] = values` instead, to perform the assignment in a single step and ensure this keeps updating the original `df`.\n",
      "\n",
      "See the caveats in the documentation: https://pandas.pydata.org/pandas-docs/stable/user_guide/indexing.html#returning-a-view-versus-a-copy\n",
      "\n",
      "  hist_file['bins'][rid] = \\\n",
      "/home/wuy/DB/performance_estimation/QueryFormer/model/database_util.py:92: FutureWarning: ChainedAssignmentError: behaviour will change in pandas 3.0!\n",
      "You are setting values through chained assignment. Currently this works in certain cases, but when using Copy-on-Write (which will become the default behaviour in pandas 3.0) this will never work to update the original DataFrame or Series, because the intermediate object on which we are setting values will behave as a copy.\n",
      "A typical example is when you are setting values in a column of a DataFrame, like:\n",
      "\n",
      "df[\"col\"][row_indexer] = value\n",
      "\n",
      "Use `df.loc[row_indexer, \"col\"] = values` instead, to perform the assignment in a single step and ensure this keeps updating the original `df`.\n",
      "\n",
      "See the caveats in the documentation: https://pandas.pydata.org/pandas-docs/stable/user_guide/indexing.html#returning-a-view-versus-a-copy\n",
      "\n",
      "  hist_file['bins'][rid] = \\\n",
      "/home/wuy/DB/performance_estimation/QueryFormer/model/database_util.py:92: FutureWarning: ChainedAssignmentError: behaviour will change in pandas 3.0!\n",
      "You are setting values through chained assignment. Currently this works in certain cases, but when using Copy-on-Write (which will become the default behaviour in pandas 3.0) this will never work to update the original DataFrame or Series, because the intermediate object on which we are setting values will behave as a copy.\n",
      "A typical example is when you are setting values in a column of a DataFrame, like:\n",
      "\n",
      "df[\"col\"][row_indexer] = value\n",
      "\n",
      "Use `df.loc[row_indexer, \"col\"] = values` instead, to perform the assignment in a single step and ensure this keeps updating the original `df`.\n",
      "\n",
      "See the caveats in the documentation: https://pandas.pydata.org/pandas-docs/stable/user_guide/indexing.html#returning-a-view-versus-a-copy\n",
      "\n",
      "  hist_file['bins'][rid] = \\\n",
      "/home/wuy/DB/performance_estimation/QueryFormer/model/database_util.py:92: FutureWarning: ChainedAssignmentError: behaviour will change in pandas 3.0!\n",
      "You are setting values through chained assignment. Currently this works in certain cases, but when using Copy-on-Write (which will become the default behaviour in pandas 3.0) this will never work to update the original DataFrame or Series, because the intermediate object on which we are setting values will behave as a copy.\n",
      "A typical example is when you are setting values in a column of a DataFrame, like:\n",
      "\n",
      "df[\"col\"][row_indexer] = value\n",
      "\n",
      "Use `df.loc[row_indexer, \"col\"] = values` instead, to perform the assignment in a single step and ensure this keeps updating the original `df`.\n",
      "\n",
      "See the caveats in the documentation: https://pandas.pydata.org/pandas-docs/stable/user_guide/indexing.html#returning-a-view-versus-a-copy\n",
      "\n",
      "  hist_file['bins'][rid] = \\\n",
      "/home/wuy/DB/performance_estimation/QueryFormer/model/database_util.py:92: FutureWarning: ChainedAssignmentError: behaviour will change in pandas 3.0!\n",
      "You are setting values through chained assignment. Currently this works in certain cases, but when using Copy-on-Write (which will become the default behaviour in pandas 3.0) this will never work to update the original DataFrame or Series, because the intermediate object on which we are setting values will behave as a copy.\n",
      "A typical example is when you are setting values in a column of a DataFrame, like:\n",
      "\n",
      "df[\"col\"][row_indexer] = value\n",
      "\n",
      "Use `df.loc[row_indexer, \"col\"] = values` instead, to perform the assignment in a single step and ensure this keeps updating the original `df`.\n",
      "\n",
      "See the caveats in the documentation: https://pandas.pydata.org/pandas-docs/stable/user_guide/indexing.html#returning-a-view-versus-a-copy\n",
      "\n",
      "  hist_file['bins'][rid] = \\\n",
      "/home/wuy/DB/performance_estimation/QueryFormer/model/database_util.py:92: FutureWarning: ChainedAssignmentError: behaviour will change in pandas 3.0!\n",
      "You are setting values through chained assignment. Currently this works in certain cases, but when using Copy-on-Write (which will become the default behaviour in pandas 3.0) this will never work to update the original DataFrame or Series, because the intermediate object on which we are setting values will behave as a copy.\n",
      "A typical example is when you are setting values in a column of a DataFrame, like:\n",
      "\n",
      "df[\"col\"][row_indexer] = value\n",
      "\n",
      "Use `df.loc[row_indexer, \"col\"] = values` instead, to perform the assignment in a single step and ensure this keeps updating the original `df`.\n",
      "\n",
      "See the caveats in the documentation: https://pandas.pydata.org/pandas-docs/stable/user_guide/indexing.html#returning-a-view-versus-a-copy\n",
      "\n",
      "  hist_file['bins'][rid] = \\\n",
      "/home/wuy/DB/performance_estimation/QueryFormer/model/database_util.py:92: FutureWarning: ChainedAssignmentError: behaviour will change in pandas 3.0!\n",
      "You are setting values through chained assignment. Currently this works in certain cases, but when using Copy-on-Write (which will become the default behaviour in pandas 3.0) this will never work to update the original DataFrame or Series, because the intermediate object on which we are setting values will behave as a copy.\n",
      "A typical example is when you are setting values in a column of a DataFrame, like:\n",
      "\n",
      "df[\"col\"][row_indexer] = value\n",
      "\n",
      "Use `df.loc[row_indexer, \"col\"] = values` instead, to perform the assignment in a single step and ensure this keeps updating the original `df`.\n",
      "\n",
      "See the caveats in the documentation: https://pandas.pydata.org/pandas-docs/stable/user_guide/indexing.html#returning-a-view-versus-a-copy\n",
      "\n",
      "  hist_file['bins'][rid] = \\\n"
     ]
    }
   ],
   "source": [
    "hist_file = get_hist_file(data_path + 'histogram_string.csv')\n",
    "cost_norm = Normalizer(-3.61192, 12.290855)\n",
    "card_norm = Normalizer(1,100)"
   ]
  },
  {
   "cell_type": "code",
   "execution_count": 8,
   "id": "4e5f421a",
   "metadata": {},
   "outputs": [],
   "source": [
    "encoding_ckpt = torch.load('checkpoints/encoding.pt')\n",
    "encoding = encoding_ckpt['encoding']\n",
    "checkpoint = torch.load('checkpoints/cost_model.pt', map_location='cpu')"
   ]
  },
  {
   "cell_type": "code",
   "execution_count": 9,
   "id": "71759b41",
   "metadata": {},
   "outputs": [],
   "source": [
    "from model.util import seed_everything\n",
    "seed_everything()"
   ]
  },
  {
   "cell_type": "code",
   "execution_count": 10,
   "id": "f9592f60",
   "metadata": {},
   "outputs": [],
   "source": [
    "model = QueryFormer(emb_size = args.embed_size ,ffn_dim = args.ffn_dim, head_size = args.head_size, \\\n",
    "                 dropout = args.dropout, n_layers = args.n_layers, \\\n",
    "                 use_sample = True, use_hist = True, \\\n",
    "                 pred_hid = args.pred_hid\n",
    "                )"
   ]
  },
  {
   "cell_type": "code",
   "execution_count": 19,
   "id": "85e27584",
   "metadata": {},
   "outputs": [],
   "source": [
    "_ = model.to(args.device)"
   ]
  },
  {
   "cell_type": "code",
   "execution_count": 12,
   "id": "6c8a7d25",
   "metadata": {},
   "outputs": [],
   "source": [
    "to_predict = 'cost'"
   ]
  },
  {
   "cell_type": "code",
   "execution_count": null,
   "id": "8fb93f3d",
   "metadata": {},
   "outputs": [],
   "source": [
    "# train_plan_part0.csv:\n",
    "#         id                                               json\n",
    "# 0        0  {\"Plan\": {\"Node Type\": \"Gather\", \"Parallel Awa...\n",
    "# 1        1  {\"Plan\": {\"Node Type\": \"Seq Scan\", \"Parallel A...\n",
    "# 2        2  {\"Plan\": {\"Node Type\": \"Seq Scan\", \"Parallel A...\n",
    "# 3        3  {\"Plan\": {\"Node Type\": \"Gather\", \"Parallel Awa...\n",
    "# 4        4  {\"Plan\": {\"Node Type\": \"Bitmap Heap Scan\", \"Pa...\n",
    "# ...    ...                                                ...\n",
    "# 4995  4995  {\"Plan\": {\"Node Type\": \"Index Scan\", \"Parallel...\n",
    "# 4996  4996  {\"Plan\": {\"Node Type\": \"Gather\", \"Parallel Awa...\n",
    "# 4997  4997  {\"Plan\": {\"Node Type\": \"Gather\", \"Parallel Awa...\n",
    "# 4998  4998  {\"Plan\": {\"Node Type\": \"Gather\", \"Parallel Awa...\n",
    "# 4999  4999  {\"Plan\": {\"Node Type\": \"Nested Loop\", \"Paralle...\n",
    "\n",
    "# >>> df['json'][0]\n",
    "# '{\"Plan\": {\"Node Type\": \"Gather\", \"Parallel Aware\": false, \"Startup Cost\": 23540.58, \"Total Cost\": 154548.95, \"Plan Rows\": 567655, \"Plan Width\": 119, \"Actual Startup Time\": 386.847, \"Actual Total Time\": 646.972, \"Actual Rows\": 283812, \"Actual Loops\": 1, \"Workers Planned\": 2, \"Workers Launched\": 2, \"Single Copy\": false, \"Plans\": [{\"Node Type\": \"Hash Join\", \"Parent Relationship\": \"Outer\", \"Parallel Aware\": true, \"Join Type\": \"Inner\", \"Startup Cost\": 22540.58, \"Total Cost\": 96783.45, \"Plan Rows\": 236523, \"Plan Width\": 119, \"Actual Startup Time\": 369.985, \"Actual Total Time\": 518.487, \"Actual Rows\": 94604, \"Actual Loops\": 3, \"Inner Unique\": false, \"Hash Cond\": \"(t.id = mi_idx.movie_id)\", \"Workers\": [], \"Plans\": [{\"Node Type\": \"Seq Scan\", \"Parent Relationship\": \"Outer\", \"Parallel Aware\": true, \"Relation Name\": \"title\", \"Alias\": \"t\", \"Startup Cost\": 0.0, \"Total Cost\": 49166.46, \"Plan Rows\": 649574, \"Plan Width\": 94, \"Actual Startup Time\": 0.366, \"Actual Total Time\": 147.047, \"Actual Rows\": 514421, \"Actual Loops\": 3, \"Filter\": \"(kind_id = 7)\", \"Rows Removed by Filter\": 328349, \"Workers\": []}, {\"Node Type\": \"Hash\", \"Parent Relationship\": \"Inner\", \"Parallel Aware\": true, \"Startup Cost\": 15122.68, \"Total Cost\": 15122.68, \"Plan Rows\": 383592, \"Plan Width\": 25, \"Actual Startup Time\": 103.547, \"Actual Total Time\": 103.547, \"Actual Rows\": 306703, \"Actual Loops\": 3, \"Hash Buckets\": 65536, \"Original Hash Buckets\": 65536, \"Hash Batches\": 32, \"Original Hash Batches\": 32, \"Peak Memory Usage\": 1920, \"Workers\": [], \"Plans\": [{\"Node Type\": \"Seq Scan\", \"Parent Relationship\": \"Outer\", \"Parallel Aware\": true, \"Relation Name\": \"movie_info_idx\", \"Alias\": \"mi_idx\", \"Startup Cost\": 0.0, \"Total Cost\": 15122.68, \"Plan Rows\": 383592, \"Plan Width\": 25, \"Actual Startup Time\": 0.28, \"Actual Total Time\": 54.382, \"Actual Rows\": 306703, \"Actual Loops\": 3, \"Filter\": \"(info_type_id > 99)\", \"Rows Removed by Filter\": 153308, \"Workers\": []}]}]}]}, \"Planning Time\": 2.382, \"Triggers\": [], \"Execution Time\": 654.241}'"
   ]
  },
  {
   "cell_type": "code",
   "execution_count": 13,
   "id": "4286ce8d",
   "metadata": {},
   "outputs": [],
   "source": [
    "imdb_path = './data/imdb/'\n",
    "dfs = []  # list to hold DataFrames\n",
    "# SQ: added\n",
    "for i in range(2):\n",
    "#for i in range(18):\n",
    "    file = imdb_path + 'plan_and_cost/train_plan_part{}.csv'.format(i)\n",
    "    df = pd.read_csv(file)\n",
    "    dfs.append(df)\n",
    "\n",
    "full_train_df = pd.concat(dfs)\n",
    "\n",
    "val_dfs = []  # list to hold DataFrames\n",
    "for i in range(18,20):\n",
    "    file = imdb_path + 'plan_and_cost/train_plan_part{}.csv'.format(i)\n",
    "    df = pd.read_csv(file)\n",
    "    val_dfs.append(df)\n",
    "\n",
    "val_df = pd.concat(val_dfs)"
   ]
  },
  {
   "cell_type": "code",
   "execution_count": null,
   "id": "f25348d0",
   "metadata": {},
   "outputs": [],
   "source": [
    "# train.csv\n",
    "#                         title t,movie_info_idx mi_idx                   t.id=mi_idx.movie_id             t.kind_id,=,7,mi_idx.info_type_id,>,99   283812\n",
    "# 0                                             title t                                    NaN                           t.production_year,>,2004  1107925\n",
    "# 1                                       movie_info mi                                    NaN                                mi.info_type_id,<,4  3624977\n",
    "# 2                          title t,movie_companies mc                       t.id=mc.movie_id                                 mc.company_id,<,27   134807\n",
    "# 3                                    movie_keyword mk                                    NaN                                 mk.keyword_id,<,55    54826\n",
    "# 4            title t,movie_companies mc,movie_info mi      t.id=mc.movie_id,t.id=mi.movie_id  t.production_year,>,1977,mc.company_id,>,71403...  1172762\n",
    "# ...                                               ...                                    ...                                                ...      ...\n",
    "# 99994                        title t,movie_keyword mk                       t.id=mk.movie_id                               mk.keyword_id,>,1951  3102738\n",
    "# 99995     title t,movie_companies mc,movie_keyword mk      t.id=mc.movie_id,t.id=mk.movie_id  t.kind_id,<,6,mc.company_type_id,<,2,mk.keywor...      738\n",
    "# 99996     title t,movie_info mi,movie_info_idx mi_idx  t.id=mi.movie_id,t.id=mi_idx.movie_id  t.kind_id,=,7,t.production_year,=,2006,mi.info...   103764\n",
    "# 99997  title t,movie_info_idx mi_idx,movie_keyword mk  t.id=mi_idx.movie_id,t.id=mk.movie_id  t.kind_id,=,7,t.production_year,<,1990,mk.keyw...        9\n",
    "# 99998                                movie_keyword mk                                    NaN                               mk.keyword_id,<,3219  1881093"
   ]
  },
  {
   "cell_type": "code",
   "execution_count": 14,
   "id": "dd8301be",
   "metadata": {},
   "outputs": [
    {
     "name": "stdout",
     "output_type": "stream",
     "text": [
      "Loaded queries with len:  100000\n",
      "Loaded bitmaps\n"
     ]
    }
   ],
   "source": [
    "table_sample = get_job_table_sample(imdb_path+'train')"
   ]
  },
  {
   "cell_type": "code",
   "execution_count": 15,
   "id": "55f5fb6e",
   "metadata": {},
   "outputs": [
    {
     "data": {
      "text/plain": [
       "((1000,), (1000,))"
      ]
     },
     "execution_count": 15,
     "metadata": {},
     "output_type": "execute_result"
    }
   ],
   "source": [
    "table_sample[0]['title'].shape, table_sample[0]['movie_info_idx'].shape"
   ]
  },
  {
   "cell_type": "code",
   "execution_count": 16,
   "id": "98d193b2",
   "metadata": {},
   "outputs": [],
   "source": [
    "train_ds = PlanTreeDataset(full_train_df, None, encoding, hist_file, card_norm, cost_norm, to_predict, table_sample)\n",
    "val_ds = PlanTreeDataset(val_df, None, encoding, hist_file, card_norm, cost_norm, to_predict, table_sample)"
   ]
  },
  {
   "cell_type": "code",
   "execution_count": 20,
   "id": "bdcefceb",
   "metadata": {},
   "outputs": [
    {
     "name": "stdout",
     "output_type": "stream",
     "text": [
      "Epoch: 0  Avg Loss: 4.196241921745241e-05, Time: 7.305432081222534\n",
      "Median: 1.783678383506568\n",
      "Mean: 5.131559662678631\n",
      "Epoch: 20  Avg Loss: 1.01084798166994e-05, Time: 143.32891201972961\n",
      "Median: 1.2352131044572183\n",
      "Mean: 1.6981965700382236\n",
      "Epoch: 40  Avg Loss: 7.465704073547386e-06, Time: 274.2282452583313\n",
      "Median: 1.1758432809269403\n",
      "Mean: 1.5358430316785883\n",
      "Epoch: 60  Avg Loss: 6.542587687727064e-06, Time: 443.19748735427856\n",
      "Median: 1.1402319216437744\n",
      "Mean: 1.4586285542317845\n",
      "Epoch: 80  Avg Loss: 5.591513130639214e-06, Time: 609.9643440246582\n",
      "Median: 1.128797962964395\n",
      "Mean: 1.42251704288672\n"
     ]
    }
   ],
   "source": [
    "crit = nn.MSELoss()\n",
    "model, best_path = train(model, train_ds, val_ds, crit, cost_norm, args)"
   ]
  },
  {
   "cell_type": "code",
   "execution_count": null,
   "id": "68dc344e",
   "metadata": {},
   "outputs": [],
   "source": []
  },
  {
   "cell_type": "code",
   "execution_count": null,
   "id": "c8f1095a",
   "metadata": {},
   "outputs": [],
   "source": []
  },
  {
   "cell_type": "code",
   "execution_count": null,
   "id": "bfa517f2",
   "metadata": {},
   "outputs": [],
   "source": [
    "methods = {\n",
    "    'get_sample' : get_job_table_sample,\n",
    "    'encoding': encoding,\n",
    "    'cost_norm': cost_norm,\n",
    "    'hist_file': hist_file,\n",
    "    'model': model,\n",
    "    'device': args.device,\n",
    "    'bs': 512,\n",
    "}"
   ]
  },
  {
   "cell_type": "code",
   "execution_count": null,
   "id": "bf2b14a9",
   "metadata": {},
   "outputs": [],
   "source": []
  },
  {
   "cell_type": "code",
   "execution_count": null,
   "id": "bd9e7796",
   "metadata": {},
   "outputs": [],
   "source": []
  },
  {
   "cell_type": "code",
   "execution_count": null,
   "id": "fd89df96",
   "metadata": {},
   "outputs": [],
   "source": [
    "_ = eval_workload('job-light', methods)"
   ]
  },
  {
   "cell_type": "code",
   "execution_count": null,
   "id": "9e40c30c",
   "metadata": {},
   "outputs": [],
   "source": [
    "_ = eval_workload('synthetic', methods)"
   ]
  },
  {
   "cell_type": "code",
   "execution_count": null,
   "id": "b30aceed",
   "metadata": {},
   "outputs": [],
   "source": []
  },
  {
   "cell_type": "code",
   "execution_count": null,
   "id": "5e47dfb9",
   "metadata": {},
   "outputs": [],
   "source": []
  },
  {
   "cell_type": "code",
   "execution_count": null,
   "id": "f0622ba9",
   "metadata": {},
   "outputs": [],
   "source": []
  },
  {
   "cell_type": "code",
   "execution_count": null,
   "id": "21b92aa3",
   "metadata": {},
   "outputs": [],
   "source": []
  },
  {
   "cell_type": "code",
   "execution_count": null,
   "id": "a3ceb39d",
   "metadata": {},
   "outputs": [],
   "source": []
  }
 ],
 "metadata": {
  "kernelspec": {
   "display_name": "queryformer",
   "language": "python",
   "name": "python3"
  },
  "language_info": {
   "codemirror_mode": {
    "name": "ipython",
    "version": 3
   },
   "file_extension": ".py",
   "mimetype": "text/x-python",
   "name": "python",
   "nbconvert_exporter": "python",
   "pygments_lexer": "ipython3",
   "version": "3.10.15"
  }
 },
 "nbformat": 4,
 "nbformat_minor": 5
}
